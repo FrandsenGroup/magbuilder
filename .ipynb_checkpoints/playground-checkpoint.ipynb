{
 "cells": [
  {
   "cell_type": "code",
   "execution_count": 3,
   "id": "3a7c3a14",
   "metadata": {},
   "outputs": [],
   "source": [
    "import matplotlib.pyplot as plt\n",
    "import numpy as np\n",
    "\n",
    "from diffpy.mpdf import *\n",
    "\n",
    "import pickle\n",
    "\n",
    "%matplotlib notebook"
   ]
  },
  {
   "cell_type": "code",
   "execution_count": 5,
   "id": "53c975dd",
   "metadata": {},
   "outputs": [],
   "source": [
    "with open('temp/test.pkl', 'rb') as f:\n",
    "    mag = pickle.load(f)\n",
    "    f.close()"
   ]
  },
  {
   "cell_type": "code",
   "execution_count": 8,
   "id": "252d64b5",
   "metadata": {},
   "outputs": [
    {
     "data": {
      "text/plain": [
       "array([[0. , 0. , 1.5]])"
      ]
     },
     "execution_count": 8,
     "metadata": {},
     "output_type": "execute_result"
    }
   ],
   "source": [
    "mag.species['2'].kvecs"
   ]
  },
  {
   "cell_type": "code",
   "execution_count": 11,
   "id": "6e67691c",
   "metadata": {},
   "outputs": [
    {
     "name": "stdout",
     "output_type": "stream",
     "text": [
      "No magnetic form factor found for that element/ion.\n",
      "Using generic magnetic form factor.\n"
     ]
    }
   ],
   "source": [
    "mag.makeAll()"
   ]
  },
  {
   "cell_type": "code",
   "execution_count": 12,
   "id": "cffb2706",
   "metadata": {},
   "outputs": [
    {
     "data": {
      "text/plain": [
       "array([[-0.70710678,  0.70710678,  0.        ],\n",
       "       [-0.70710678,  0.70710678,  0.        ],\n",
       "       [-0.70710678,  0.70710678,  0.        ],\n",
       "       ...,\n",
       "       [-0.70710678,  0.70710678,  0.        ],\n",
       "       [-0.70710678,  0.70710678, -0.        ],\n",
       "       [-0.70710678,  0.70710678,  0.        ]])"
      ]
     },
     "execution_count": 12,
     "metadata": {},
     "output_type": "execute_result"
    }
   ],
   "source": [
    "mag.spins"
   ]
  },
  {
   "cell_type": "code",
   "execution_count": null,
   "id": "c47cb856",
   "metadata": {},
   "outputs": [],
   "source": []
  }
 ],
 "metadata": {
  "kernelspec": {
   "display_name": "Python 3",
   "language": "python",
   "name": "python3"
  },
  "language_info": {
   "codemirror_mode": {
    "name": "ipython",
    "version": 3
   },
   "file_extension": ".py",
   "mimetype": "text/x-python",
   "name": "python",
   "nbconvert_exporter": "python",
   "pygments_lexer": "ipython3",
   "version": "3.7.10"
  }
 },
 "nbformat": 4,
 "nbformat_minor": 5
}
